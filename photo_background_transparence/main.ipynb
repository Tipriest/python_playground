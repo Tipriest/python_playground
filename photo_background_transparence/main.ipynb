{
 "cells": [
  {
   "cell_type": "code",
   "execution_count": 2,
   "metadata": {},
   "outputs": [],
   "source": [
    "from PIL import Image\n",
    "import numpy as np\n",
    "import os\n",
    "file_path = \"/home/tipriest/Pictures/icons\"\n",
    "input_name = \"vscode.png\"\n",
    "output_name = \"vscode_transparent.png\""
   ]
  },
  {
   "cell_type": "code",
   "execution_count": 3,
   "metadata": {},
   "outputs": [],
   "source": [
    "def convert_white_to_transparent(image_path, output_path):\n",
    "    # 打开图像\n",
    "    image = Image.open(image_path).convert(\"RGBA\")\n",
    "\n",
    "    # 转换图像数据为 numpy 数组\n",
    "    data = np.array(image)\n",
    "\n",
    "    # 定义白色\n",
    "    white = [255, 255, 255, 255]\n",
    "\n",
    "    # 如果像素是白色，则将其透明化\n",
    "    for i in range(data.shape[0]):\n",
    "        for j in range(data.shape[1]):\n",
    "            if all(data[i, j][:3] == white[:3]):\n",
    "                data[i, j] = [255, 255, 255, 0]\n",
    "\n",
    "    # 将修改后的数据转换回图像\n",
    "    new_image = Image.fromarray(data, 'RGBA')\n",
    "\n",
    "    # 保存新图像\n",
    "    new_image.save(output_path)"
   ]
  },
  {
   "cell_type": "code",
   "execution_count": 4,
   "metadata": {},
   "outputs": [],
   "source": [
    "# 使用示例\n",
    "convert_white_to_transparent(os.path.join(file_path, input_name), os.path.join(file_path, output_name))"
   ]
  },
  {
   "cell_type": "code",
   "execution_count": null,
   "metadata": {},
   "outputs": [],
   "source": [
    "import math\n",
    "import sys\n",
    "\n",
    "\n",
    "def example1():\n",
    "    # This is a long comment. This should be wrapped to fit within 72 characters.\n",
    "    some_tuple = (1, 2, 3, 'a')\n",
    "    some_variable = {'long': 'Long code lines should be wrapped within 79 characters.',\n",
    "                     'other': [math.pi, 100, 200, 300, 9876543210, 'This is a long string that goes on'],\n",
    "                     'more': {'inner': 'This whole logical line should be wrapped.', some_tuple: [1,\n",
    "                                                                                                  20, 300, 40000, 500000000, 60000000000000000]}}\n",
    "    return (some_tuple, some_variable)\n",
    "\n",
    "\n",
    "def example2(): return {'has_key() is deprecated': True}.has_key(\n",
    "    {'f': 2}.has_key(''))\n",
    "\n",
    "\n",
    "class Example3(object):\n",
    "    def __init__(self, bar):\n",
    "        # Comments should have a space after the hash.\n",
    "        if bar:\n",
    "            bar += 1\n",
    "            bar = bar * bar\n",
    "            return bar\n",
    "        else:\n",
    "            some_string = \"\"\"\n",
    "                       Indentation in multiline strings should not be touched.\n",
    "Only actual code should be reindented.\n",
    "\"\"\"\n",
    "            return (sys.path, some_string)"
   ]
  }
 ],
 "metadata": {
  "kernelspec": {
   "display_name": "algorithmPractice",
   "language": "python",
   "name": "python3"
  },
  "language_info": {
   "codemirror_mode": {
    "name": "ipython",
    "version": 3
   },
   "file_extension": ".py",
   "mimetype": "text/x-python",
   "name": "python",
   "nbconvert_exporter": "python",
   "pygments_lexer": "ipython3",
   "version": "3.8.19"
  }
 },
 "nbformat": 4,
 "nbformat_minor": 2
}
